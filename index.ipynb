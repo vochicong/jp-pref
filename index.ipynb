{
 "cells": [
  {
   "cell_type": "markdown",
   "metadata": {},
   "source": [
    "# JP Pref.\n",
    "\n",
    "> Japan prefecture names and codes"
   ]
  },
  {
   "cell_type": "markdown",
   "metadata": {},
   "source": [
    "日本都道府県の名称とコード（JIS X 0401-1973）を変換するユーティリティ\n",
    "\n",
    "- 名称 ⇔ コード\n",
    "- 略名 ⇔ 正式名称\n",
    "\n",
    "Reference\n",
    "\n",
    "- [都道府県コード及び市区町村コード(総務省 電子自治体)](http://www.soumu.go.jp/denshijiti/code.html)\n",
    "- [JIS X 0401 JSON API](https://madefor.github.io/jisx0401/)\n",
    "- [Lightweight US zipcode database in Python](https://github.com/seanpianka/zipcodes)\n",
    "- [Powerful US zipcode database in Python](https://github.com/MacHu-GWU/uszipcode-project)"
   ]
  },
  {
   "cell_type": "code",
   "execution_count": null,
   "metadata": {},
   "outputs": [],
   "source": [
    "#hide\n",
    "from nbdev.showdoc import *"
   ]
  },
  {
   "cell_type": "code",
   "execution_count": null,
   "metadata": {},
   "outputs": [],
   "source": [
    "#hide\n",
    "%load_ext autoreload\n",
    "%autoreload 2"
   ]
  },
  {
   "cell_type": "markdown",
   "metadata": {},
   "source": [
    "## Install"
   ]
  },
  {
   "cell_type": "markdown",
   "metadata": {},
   "source": [
    "`pip install jp_pref`"
   ]
  },
  {
   "cell_type": "markdown",
   "metadata": {},
   "source": [
    "## How to use"
   ]
  },
  {
   "cell_type": "code",
   "execution_count": null,
   "metadata": {},
   "outputs": [],
   "source": [
    "from jp_pref.prefecture import name2code, code2name\n",
    "from jp_pref.prefecture import df as df_pref"
   ]
  },
  {
   "cell_type": "markdown",
   "metadata": {},
   "source": [
    "### Conversion\n",
    "\n",
    "都道府県名の文字列、リスト、もしくは pandas series をコードに変換"
   ]
  },
  {
   "cell_type": "code",
   "execution_count": null,
   "metadata": {},
   "outputs": [],
   "source": [
    "assert name2code(\"東京都\") ==\\\n",
    "       name2code(\"東京\")   == 13\n",
    "assert code2name(13) == \"東京都\"\n",
    "assert name2code([\"東京都\", \"大阪府\", \"北海道\"]) ==\\\n",
    "       name2code([\"東京\",   \"大阪\",   \"北海\"])  ==\\\n",
    "       [13, 27, 1]\n",
    "assert code2name([13, 27, 1]) == ['東京都', '大阪府', '北海道']"
   ]
  },
  {
   "cell_type": "markdown",
   "metadata": {},
   "source": [
    "### Dataframe\n",
    "\n",
    "Dataframe of prefecture names and codes.\n",
    "\n",
    "ちょっと長い都道府県リストが一画面に収まるように、[`pandas_show`](https://vochicong.github.io/pandas_show/) を使う。\n"
   ]
  },
  {
   "cell_type": "code",
   "execution_count": null,
   "metadata": {},
   "outputs": [
    {
     "name": "stdout",
     "output_type": "stream",
     "text": [
      "Requirement already satisfied: pandas_show in /usr/local/lib/python3.8/dist-packages (0.0.1)\n",
      "Requirement already satisfied: ipython in /usr/local/lib/python3.8/dist-packages (from pandas_show) (7.19.0)\n",
      "Requirement already satisfied: pandas in /usr/local/lib/python3.8/dist-packages (from pandas_show) (1.2.2)\n",
      "Requirement already satisfied: traitlets>=4.2 in /usr/local/lib/python3.8/dist-packages (from ipython->pandas_show) (5.0.5)\n",
      "Requirement already satisfied: backcall in /usr/local/lib/python3.8/dist-packages (from ipython->pandas_show) (0.2.0)\n",
      "Requirement already satisfied: pickleshare in /usr/local/lib/python3.8/dist-packages (from ipython->pandas_show) (0.7.5)\n",
      "Requirement already satisfied: pygments in /usr/local/lib/python3.8/dist-packages (from ipython->pandas_show) (2.7.3)\n",
      "Requirement already satisfied: prompt-toolkit!=3.0.0,!=3.0.1,<3.1.0,>=2.0.0 in /usr/local/lib/python3.8/dist-packages (from ipython->pandas_show) (3.0.8)\n",
      "Requirement already satisfied: jedi>=0.10 in /usr/local/lib/python3.8/dist-packages (from ipython->pandas_show) (0.17.2)\n",
      "Requirement already satisfied: pexpect>4.3 in /usr/local/lib/python3.8/dist-packages (from ipython->pandas_show) (4.8.0)\n",
      "Requirement already satisfied: setuptools>=18.5 in /usr/lib/python3/dist-packages (from ipython->pandas_show) (45.2.0)\n",
      "Requirement already satisfied: decorator in /usr/local/lib/python3.8/dist-packages (from ipython->pandas_show) (4.4.2)\n",
      "Requirement already satisfied: parso<0.8.0,>=0.7.0 in /usr/local/lib/python3.8/dist-packages (from jedi>=0.10->ipython->pandas_show) (0.7.1)\n",
      "Requirement already satisfied: ptyprocess>=0.5 in /usr/local/lib/python3.8/dist-packages (from pexpect>4.3->ipython->pandas_show) (0.6.0)\n",
      "Requirement already satisfied: wcwidth in /usr/local/lib/python3.8/dist-packages (from prompt-toolkit!=3.0.0,!=3.0.1,<3.1.0,>=2.0.0->ipython->pandas_show) (0.2.5)\n",
      "Requirement already satisfied: ipython-genutils in /usr/local/lib/python3.8/dist-packages (from traitlets>=4.2->ipython->pandas_show) (0.2.0)\n",
      "Requirement already satisfied: pytz>=2017.3 in /usr/local/lib/python3.8/dist-packages (from pandas->pandas_show) (2021.1)\n",
      "Requirement already satisfied: python-dateutil>=2.7.3 in /usr/local/lib/python3.8/dist-packages (from pandas->pandas_show) (2.8.1)\n",
      "Requirement already satisfied: numpy>=1.16.5 in /usr/local/lib/python3.8/dist-packages (from pandas->pandas_show) (1.19.4)\n",
      "Requirement already satisfied: six>=1.5 in /usr/lib/python3/dist-packages (from python-dateutil>=2.7.3->pandas->pandas_show) (1.14.0)\n",
      "\u001b[33mWARNING: You are using pip version 20.3.3; however, version 21.0.1 is available.\n",
      "You should consider upgrading via the '/usr/bin/python -m pip install --upgrade pip' command.\u001b[0m\n"
     ]
    }
   ],
   "source": [
    "# hide-output\n",
    "!pip install pandas_show"
   ]
  },
  {
   "cell_type": "code",
   "execution_count": null,
   "metadata": {},
   "outputs": [],
   "source": [
    "from pandas_show.core import display_in_cols"
   ]
  },
  {
   "cell_type": "code",
   "execution_count": null,
   "metadata": {},
   "outputs": [
    {
     "data": {
      "text/html": "<table style=\"display:inline\" border=\"1\" class=\"dataframe\">\n  <thead>\n    <tr style=\"text-align: right;\">\n      <th></th>\n      <th>name</th>\n      <th>short_name</th>\n    </tr>\n    <tr>\n      <th>code</th>\n      <th></th>\n      <th></th>\n    </tr>\n  </thead>\n  <tbody>\n    <tr>\n      <th>1</th>\n      <td>北海道</td>\n      <td>北海</td>\n    </tr>\n    <tr>\n      <th>2</th>\n      <td>青森県</td>\n      <td>青森</td>\n    </tr>\n    <tr>\n      <th>3</th>\n      <td>岩手県</td>\n      <td>岩手</td>\n    </tr>\n    <tr>\n      <th>4</th>\n      <td>宮城県</td>\n      <td>宮城</td>\n    </tr>\n    <tr>\n      <th>5</th>\n      <td>秋田県</td>\n      <td>秋田</td>\n    </tr>\n    <tr>\n      <th>6</th>\n      <td>山形県</td>\n      <td>山形</td>\n    </tr>\n    <tr>\n      <th>7</th>\n      <td>福島県</td>\n      <td>福島</td>\n    </tr>\n    <tr>\n      <th>8</th>\n      <td>茨城県</td>\n      <td>茨城</td>\n    </tr>\n    <tr>\n      <th>9</th>\n      <td>栃木県</td>\n      <td>栃木</td>\n    </tr>\n    <tr>\n      <th>10</th>\n      <td>群馬県</td>\n      <td>群馬</td>\n    </tr>\n    <tr>\n      <th>11</th>\n      <td>埼玉県</td>\n      <td>埼玉</td>\n    </tr>\n    <tr>\n      <th>12</th>\n      <td>千葉県</td>\n      <td>千葉</td>\n    </tr>\n  </tbody>\n</table style=\"display:inline\"><table style=\"display:inline\" border=\"1\" class=\"dataframe\">\n  <thead>\n    <tr style=\"text-align: right;\">\n      <th></th>\n      <th>name</th>\n      <th>short_name</th>\n    </tr>\n    <tr>\n      <th>code</th>\n      <th></th>\n      <th></th>\n    </tr>\n  </thead>\n  <tbody>\n    <tr>\n      <th>13</th>\n      <td>東京都</td>\n      <td>東京</td>\n    </tr>\n    <tr>\n      <th>14</th>\n      <td>神奈川県</td>\n      <td>神奈川</td>\n    </tr>\n    <tr>\n      <th>15</th>\n      <td>新潟県</td>\n      <td>新潟</td>\n    </tr>\n    <tr>\n      <th>16</th>\n      <td>富山県</td>\n      <td>富山</td>\n    </tr>\n    <tr>\n      <th>17</th>\n      <td>石川県</td>\n      <td>石川</td>\n    </tr>\n    <tr>\n      <th>18</th>\n      <td>福井県</td>\n      <td>福井</td>\n    </tr>\n    <tr>\n      <th>19</th>\n      <td>山梨県</td>\n      <td>山梨</td>\n    </tr>\n    <tr>\n      <th>20</th>\n      <td>長野県</td>\n      <td>長野</td>\n    </tr>\n    <tr>\n      <th>21</th>\n      <td>岐阜県</td>\n      <td>岐阜</td>\n    </tr>\n    <tr>\n      <th>22</th>\n      <td>静岡県</td>\n      <td>静岡</td>\n    </tr>\n    <tr>\n      <th>23</th>\n      <td>愛知県</td>\n      <td>愛知</td>\n    </tr>\n    <tr>\n      <th>24</th>\n      <td>三重県</td>\n      <td>三重</td>\n    </tr>\n  </tbody>\n</table style=\"display:inline\"><table style=\"display:inline\" border=\"1\" class=\"dataframe\">\n  <thead>\n    <tr style=\"text-align: right;\">\n      <th></th>\n      <th>name</th>\n      <th>short_name</th>\n    </tr>\n    <tr>\n      <th>code</th>\n      <th></th>\n      <th></th>\n    </tr>\n  </thead>\n  <tbody>\n    <tr>\n      <th>25</th>\n      <td>滋賀県</td>\n      <td>滋賀</td>\n    </tr>\n    <tr>\n      <th>26</th>\n      <td>京都府</td>\n      <td>京都</td>\n    </tr>\n    <tr>\n      <th>27</th>\n      <td>大阪府</td>\n      <td>大阪</td>\n    </tr>\n    <tr>\n      <th>28</th>\n      <td>兵庫県</td>\n      <td>兵庫</td>\n    </tr>\n    <tr>\n      <th>29</th>\n      <td>奈良県</td>\n      <td>奈良</td>\n    </tr>\n    <tr>\n      <th>30</th>\n      <td>和歌山県</td>\n      <td>和歌山</td>\n    </tr>\n    <tr>\n      <th>31</th>\n      <td>鳥取県</td>\n      <td>鳥取</td>\n    </tr>\n    <tr>\n      <th>32</th>\n      <td>島根県</td>\n      <td>島根</td>\n    </tr>\n    <tr>\n      <th>33</th>\n      <td>岡山県</td>\n      <td>岡山</td>\n    </tr>\n    <tr>\n      <th>34</th>\n      <td>広島県</td>\n      <td>広島</td>\n    </tr>\n    <tr>\n      <th>35</th>\n      <td>山口県</td>\n      <td>山口</td>\n    </tr>\n    <tr>\n      <th>36</th>\n      <td>徳島県</td>\n      <td>徳島</td>\n    </tr>\n  </tbody>\n</table style=\"display:inline\"><table style=\"display:inline\" border=\"1\" class=\"dataframe\">\n  <thead>\n    <tr style=\"text-align: right;\">\n      <th></th>\n      <th>name</th>\n      <th>short_name</th>\n    </tr>\n    <tr>\n      <th>code</th>\n      <th></th>\n      <th></th>\n    </tr>\n  </thead>\n  <tbody>\n    <tr>\n      <th>37</th>\n      <td>香川県</td>\n      <td>香川</td>\n    </tr>\n    <tr>\n      <th>38</th>\n      <td>愛媛県</td>\n      <td>愛媛</td>\n    </tr>\n    <tr>\n      <th>39</th>\n      <td>高知県</td>\n      <td>高知</td>\n    </tr>\n    <tr>\n      <th>40</th>\n      <td>福岡県</td>\n      <td>福岡</td>\n    </tr>\n    <tr>\n      <th>41</th>\n      <td>佐賀県</td>\n      <td>佐賀</td>\n    </tr>\n    <tr>\n      <th>42</th>\n      <td>長崎県</td>\n      <td>長崎</td>\n    </tr>\n    <tr>\n      <th>43</th>\n      <td>熊本県</td>\n      <td>熊本</td>\n    </tr>\n    <tr>\n      <th>44</th>\n      <td>大分県</td>\n      <td>大分</td>\n    </tr>\n    <tr>\n      <th>45</th>\n      <td>宮崎県</td>\n      <td>宮崎</td>\n    </tr>\n    <tr>\n      <th>46</th>\n      <td>鹿児島県</td>\n      <td>鹿児島</td>\n    </tr>\n    <tr>\n      <th>47</th>\n      <td>沖縄県</td>\n      <td>沖縄</td>\n    </tr>\n  </tbody>\n</table style=\"display:inline\">"
     },
     "metadata": {},
     "output_type": "display_data"
    }
   ],
   "source": [
    "display_in_cols(df_pref, 4)"
   ]
  },
  {
   "cell_type": "code",
   "execution_count": null,
   "metadata": {},
   "outputs": [
    {
     "name": "stdout",
     "output_type": "stream",
     "text": [
      "Converted 10_pref.ipynb.\nConverted index.ipynb.\n"
     ]
    }
   ],
   "source": [
    "#hide\n",
    "from nbdev.export import notebook2script\n",
    "notebook2script()"
   ]
  },
  {
   "cell_type": "code",
   "execution_count": null,
   "metadata": {},
   "outputs": [
    {
     "name": "stdout",
     "output_type": "stream",
     "text": [
      "No notebooks were modified\n"
     ]
    }
   ],
   "source": [
    "#hide\n",
    "from nbdev.export2html import notebook2html\n",
    "notebook2html()"
   ]
  },
  {
   "cell_type": "code",
   "execution_count": null,
   "metadata": {},
   "outputs": [],
   "source": []
  }
 ],
 "metadata": {
  "kernelspec": {
   "display_name": "Python 3",
   "language": "python",
   "name": "python3"
  }
 },
 "nbformat": 4,
 "nbformat_minor": 4
}
