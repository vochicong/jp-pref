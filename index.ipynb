{
 "cells": [
  {
   "cell_type": "markdown",
   "metadata": {},
   "source": [
    "# JP Pref.\n",
    "\n",
    "> Japan prefecture names and codes\n",
    "\n",
    "日本都道府県の名称とコード（JIS X 0401-1973）を変換するユーティリティ\n",
    "\n",
    "- 名称 ⇔ コード\n",
    "- 略名 ⇔ 正式名称\n",
    "\n",
    "Reference\n",
    "\n",
    "- [都道府県コード及び市区町村コード(総務省 電子自治体)](http://www.soumu.go.jp/denshijiti/code.html)\n",
    "- [JIS X 0401 JSON API](https://madefor.github.io/jisx0401/)\n",
    "- [Lightweight US zipcode database in Python](https://github.com/seanpianka/zipcodes)\n",
    "- [Powerful US zipcode database in Python](https://github.com/MacHu-GWU/uszipcode-project)"
   ]
  },
  {
   "cell_type": "code",
   "execution_count": null,
   "metadata": {},
   "outputs": [],
   "source": [
    "#hide\n",
    "from nbdev.showdoc import *"
   ]
  },
  {
   "cell_type": "code",
   "execution_count": null,
   "metadata": {},
   "outputs": [],
   "source": [
    "#hide\n",
    "%load_ext autoreload\n",
    "%autoreload 2"
   ]
  },
  {
   "cell_type": "markdown",
   "metadata": {},
   "source": [
    "## Install"
   ]
  },
  {
   "cell_type": "markdown",
   "metadata": {},
   "source": [
    "`pip install jp_pref`"
   ]
  },
  {
   "cell_type": "markdown",
   "metadata": {},
   "source": [
    "## How to use"
   ]
  },
  {
   "cell_type": "code",
   "execution_count": null,
   "metadata": {},
   "outputs": [],
   "source": [
    "from jp_pref.prefecture import df, name2code, code2name"
   ]
  },
  {
   "cell_type": "markdown",
   "metadata": {},
   "source": [
    "### Dataframe\n",
    "\n",
    "Dataframe of prefecture names and codes"
   ]
  },
  {
   "cell_type": "code",
   "execution_count": null,
   "metadata": {},
   "outputs": [
    {
     "data": {
      "text/html": [
       "<div>\n",
       "<style scoped>\n",
       "    .dataframe tbody tr th:only-of-type {\n",
       "        vertical-align: middle;\n",
       "    }\n",
       "\n",
       "    .dataframe tbody tr th {\n",
       "        vertical-align: top;\n",
       "    }\n",
       "\n",
       "    .dataframe thead th {\n",
       "        text-align: right;\n",
       "    }\n",
       "</style>\n",
       "<table border=\"1\" class=\"dataframe\">\n",
       "  <thead>\n",
       "    <tr style=\"text-align: right;\">\n",
       "      <th></th>\n",
       "      <th>name</th>\n",
       "      <th>short_name</th>\n",
       "    </tr>\n",
       "    <tr>\n",
       "      <th>code</th>\n",
       "      <th></th>\n",
       "      <th></th>\n",
       "    </tr>\n",
       "  </thead>\n",
       "  <tbody>\n",
       "    <tr>\n",
       "      <th>1</th>\n",
       "      <td>北海道</td>\n",
       "      <td>北海</td>\n",
       "    </tr>\n",
       "    <tr>\n",
       "      <th>2</th>\n",
       "      <td>青森県</td>\n",
       "      <td>青森</td>\n",
       "    </tr>\n",
       "    <tr>\n",
       "      <th>3</th>\n",
       "      <td>岩手県</td>\n",
       "      <td>岩手</td>\n",
       "    </tr>\n",
       "    <tr>\n",
       "      <th>4</th>\n",
       "      <td>宮城県</td>\n",
       "      <td>宮城</td>\n",
       "    </tr>\n",
       "    <tr>\n",
       "      <th>5</th>\n",
       "      <td>秋田県</td>\n",
       "      <td>秋田</td>\n",
       "    </tr>\n",
       "    <tr>\n",
       "      <th>6</th>\n",
       "      <td>山形県</td>\n",
       "      <td>山形</td>\n",
       "    </tr>\n",
       "    <tr>\n",
       "      <th>7</th>\n",
       "      <td>福島県</td>\n",
       "      <td>福島</td>\n",
       "    </tr>\n",
       "    <tr>\n",
       "      <th>8</th>\n",
       "      <td>茨城県</td>\n",
       "      <td>茨城</td>\n",
       "    </tr>\n",
       "    <tr>\n",
       "      <th>9</th>\n",
       "      <td>栃木県</td>\n",
       "      <td>栃木</td>\n",
       "    </tr>\n",
       "    <tr>\n",
       "      <th>10</th>\n",
       "      <td>群馬県</td>\n",
       "      <td>群馬</td>\n",
       "    </tr>\n",
       "    <tr>\n",
       "      <th>11</th>\n",
       "      <td>埼玉県</td>\n",
       "      <td>埼玉</td>\n",
       "    </tr>\n",
       "    <tr>\n",
       "      <th>12</th>\n",
       "      <td>千葉県</td>\n",
       "      <td>千葉</td>\n",
       "    </tr>\n",
       "    <tr>\n",
       "      <th>13</th>\n",
       "      <td>東京都</td>\n",
       "      <td>東京</td>\n",
       "    </tr>\n",
       "    <tr>\n",
       "      <th>14</th>\n",
       "      <td>神奈川県</td>\n",
       "      <td>神奈川</td>\n",
       "    </tr>\n",
       "    <tr>\n",
       "      <th>15</th>\n",
       "      <td>新潟県</td>\n",
       "      <td>新潟</td>\n",
       "    </tr>\n",
       "    <tr>\n",
       "      <th>16</th>\n",
       "      <td>富山県</td>\n",
       "      <td>富山</td>\n",
       "    </tr>\n",
       "    <tr>\n",
       "      <th>17</th>\n",
       "      <td>石川県</td>\n",
       "      <td>石川</td>\n",
       "    </tr>\n",
       "    <tr>\n",
       "      <th>18</th>\n",
       "      <td>福井県</td>\n",
       "      <td>福井</td>\n",
       "    </tr>\n",
       "    <tr>\n",
       "      <th>19</th>\n",
       "      <td>山梨県</td>\n",
       "      <td>山梨</td>\n",
       "    </tr>\n",
       "    <tr>\n",
       "      <th>20</th>\n",
       "      <td>長野県</td>\n",
       "      <td>長野</td>\n",
       "    </tr>\n",
       "    <tr>\n",
       "      <th>21</th>\n",
       "      <td>岐阜県</td>\n",
       "      <td>岐阜</td>\n",
       "    </tr>\n",
       "    <tr>\n",
       "      <th>22</th>\n",
       "      <td>静岡県</td>\n",
       "      <td>静岡</td>\n",
       "    </tr>\n",
       "    <tr>\n",
       "      <th>23</th>\n",
       "      <td>愛知県</td>\n",
       "      <td>愛知</td>\n",
       "    </tr>\n",
       "    <tr>\n",
       "      <th>24</th>\n",
       "      <td>三重県</td>\n",
       "      <td>三重</td>\n",
       "    </tr>\n",
       "    <tr>\n",
       "      <th>25</th>\n",
       "      <td>滋賀県</td>\n",
       "      <td>滋賀</td>\n",
       "    </tr>\n",
       "    <tr>\n",
       "      <th>26</th>\n",
       "      <td>京都府</td>\n",
       "      <td>京都</td>\n",
       "    </tr>\n",
       "    <tr>\n",
       "      <th>27</th>\n",
       "      <td>大阪府</td>\n",
       "      <td>大阪</td>\n",
       "    </tr>\n",
       "    <tr>\n",
       "      <th>28</th>\n",
       "      <td>兵庫県</td>\n",
       "      <td>兵庫</td>\n",
       "    </tr>\n",
       "    <tr>\n",
       "      <th>29</th>\n",
       "      <td>奈良県</td>\n",
       "      <td>奈良</td>\n",
       "    </tr>\n",
       "    <tr>\n",
       "      <th>30</th>\n",
       "      <td>和歌山県</td>\n",
       "      <td>和歌山</td>\n",
       "    </tr>\n",
       "    <tr>\n",
       "      <th>31</th>\n",
       "      <td>鳥取県</td>\n",
       "      <td>鳥取</td>\n",
       "    </tr>\n",
       "    <tr>\n",
       "      <th>32</th>\n",
       "      <td>島根県</td>\n",
       "      <td>島根</td>\n",
       "    </tr>\n",
       "    <tr>\n",
       "      <th>33</th>\n",
       "      <td>岡山県</td>\n",
       "      <td>岡山</td>\n",
       "    </tr>\n",
       "    <tr>\n",
       "      <th>34</th>\n",
       "      <td>広島県</td>\n",
       "      <td>広島</td>\n",
       "    </tr>\n",
       "    <tr>\n",
       "      <th>35</th>\n",
       "      <td>山口県</td>\n",
       "      <td>山口</td>\n",
       "    </tr>\n",
       "    <tr>\n",
       "      <th>36</th>\n",
       "      <td>徳島県</td>\n",
       "      <td>徳島</td>\n",
       "    </tr>\n",
       "    <tr>\n",
       "      <th>37</th>\n",
       "      <td>香川県</td>\n",
       "      <td>香川</td>\n",
       "    </tr>\n",
       "    <tr>\n",
       "      <th>38</th>\n",
       "      <td>愛媛県</td>\n",
       "      <td>愛媛</td>\n",
       "    </tr>\n",
       "    <tr>\n",
       "      <th>39</th>\n",
       "      <td>高知県</td>\n",
       "      <td>高知</td>\n",
       "    </tr>\n",
       "    <tr>\n",
       "      <th>40</th>\n",
       "      <td>福岡県</td>\n",
       "      <td>福岡</td>\n",
       "    </tr>\n",
       "    <tr>\n",
       "      <th>41</th>\n",
       "      <td>佐賀県</td>\n",
       "      <td>佐賀</td>\n",
       "    </tr>\n",
       "    <tr>\n",
       "      <th>42</th>\n",
       "      <td>長崎県</td>\n",
       "      <td>長崎</td>\n",
       "    </tr>\n",
       "    <tr>\n",
       "      <th>43</th>\n",
       "      <td>熊本県</td>\n",
       "      <td>熊本</td>\n",
       "    </tr>\n",
       "    <tr>\n",
       "      <th>44</th>\n",
       "      <td>大分県</td>\n",
       "      <td>大分</td>\n",
       "    </tr>\n",
       "    <tr>\n",
       "      <th>45</th>\n",
       "      <td>宮崎県</td>\n",
       "      <td>宮崎</td>\n",
       "    </tr>\n",
       "    <tr>\n",
       "      <th>46</th>\n",
       "      <td>鹿児島県</td>\n",
       "      <td>鹿児島</td>\n",
       "    </tr>\n",
       "    <tr>\n",
       "      <th>47</th>\n",
       "      <td>沖縄県</td>\n",
       "      <td>沖縄</td>\n",
       "    </tr>\n",
       "  </tbody>\n",
       "</table>\n",
       "</div>"
      ],
      "text/plain": [
       "      name short_name\n",
       "code                 \n",
       "1      北海道         北海\n",
       "2      青森県         青森\n",
       "3      岩手県         岩手\n",
       "4      宮城県         宮城\n",
       "5      秋田県         秋田\n",
       "6      山形県         山形\n",
       "7      福島県         福島\n",
       "8      茨城県         茨城\n",
       "9      栃木県         栃木\n",
       "10     群馬県         群馬\n",
       "11     埼玉県         埼玉\n",
       "12     千葉県         千葉\n",
       "13     東京都         東京\n",
       "14    神奈川県        神奈川\n",
       "15     新潟県         新潟\n",
       "16     富山県         富山\n",
       "17     石川県         石川\n",
       "18     福井県         福井\n",
       "19     山梨県         山梨\n",
       "20     長野県         長野\n",
       "21     岐阜県         岐阜\n",
       "22     静岡県         静岡\n",
       "23     愛知県         愛知\n",
       "24     三重県         三重\n",
       "25     滋賀県         滋賀\n",
       "26     京都府         京都\n",
       "27     大阪府         大阪\n",
       "28     兵庫県         兵庫\n",
       "29     奈良県         奈良\n",
       "30    和歌山県        和歌山\n",
       "31     鳥取県         鳥取\n",
       "32     島根県         島根\n",
       "33     岡山県         岡山\n",
       "34     広島県         広島\n",
       "35     山口県         山口\n",
       "36     徳島県         徳島\n",
       "37     香川県         香川\n",
       "38     愛媛県         愛媛\n",
       "39     高知県         高知\n",
       "40     福岡県         福岡\n",
       "41     佐賀県         佐賀\n",
       "42     長崎県         長崎\n",
       "43     熊本県         熊本\n",
       "44     大分県         大分\n",
       "45     宮崎県         宮崎\n",
       "46    鹿児島県        鹿児島\n",
       "47     沖縄県         沖縄"
      ]
     },
     "execution_count": null,
     "metadata": {},
     "output_type": "execute_result"
    }
   ],
   "source": [
    "df"
   ]
  },
  {
   "cell_type": "markdown",
   "metadata": {},
   "source": [
    "### name2code & code2name\n",
    "\n",
    "都道府県名の文字列、リスト、もしくは pandas series をコードに変換"
   ]
  },
  {
   "cell_type": "code",
   "execution_count": null,
   "metadata": {},
   "outputs": [
    {
     "data": {
      "text/plain": [
       "13"
      ]
     },
     "execution_count": null,
     "metadata": {},
     "output_type": "execute_result"
    }
   ],
   "source": [
    "name2code(\"東京都\")"
   ]
  },
  {
   "cell_type": "code",
   "execution_count": null,
   "metadata": {},
   "outputs": [
    {
     "data": {
      "text/plain": [
       "13"
      ]
     },
     "execution_count": null,
     "metadata": {},
     "output_type": "execute_result"
    }
   ],
   "source": [
    "name2code(\"東京\")"
   ]
  },
  {
   "cell_type": "code",
   "execution_count": null,
   "metadata": {},
   "outputs": [
    {
     "data": {
      "text/plain": [
       "'東京都'"
      ]
     },
     "execution_count": null,
     "metadata": {},
     "output_type": "execute_result"
    }
   ],
   "source": [
    "code2name(13)"
   ]
  },
  {
   "cell_type": "code",
   "execution_count": null,
   "metadata": {},
   "outputs": [
    {
     "data": {
      "text/plain": [
       "[13, 27, 1]"
      ]
     },
     "execution_count": null,
     "metadata": {},
     "output_type": "execute_result"
    }
   ],
   "source": [
    "name2code([\"東京都\", \"大阪府\", \"北海道\"])"
   ]
  },
  {
   "cell_type": "code",
   "execution_count": null,
   "metadata": {},
   "outputs": [
    {
     "data": {
      "text/plain": [
       "[13, 27, 1]"
      ]
     },
     "execution_count": null,
     "metadata": {},
     "output_type": "execute_result"
    }
   ],
   "source": [
    "name2code([\"東京\", \"大阪\", \"北海\"])"
   ]
  },
  {
   "cell_type": "code",
   "execution_count": null,
   "metadata": {},
   "outputs": [
    {
     "data": {
      "text/plain": [
       "['東京都', '大阪府', '北海道']"
      ]
     },
     "execution_count": null,
     "metadata": {},
     "output_type": "execute_result"
    }
   ],
   "source": [
    "code2name([13, 27, 1])"
   ]
  },
  {
   "cell_type": "code",
   "execution_count": null,
   "metadata": {},
   "outputs": [
    {
     "name": "stdout",
     "output_type": "stream",
     "text": [
      "Converted 10_pref.ipynb.\n",
      "Converted index.ipynb.\n"
     ]
    }
   ],
   "source": [
    "#hide\n",
    "from nbdev.export import notebook2script\n",
    "notebook2script()"
   ]
  },
  {
   "cell_type": "code",
   "execution_count": null,
   "metadata": {},
   "outputs": [
    {
     "name": "stdout",
     "output_type": "stream",
     "text": [
      "No notebooks were modified\n"
     ]
    }
   ],
   "source": [
    "#hide\n",
    "from nbdev.export2html import notebook2html\n",
    "notebook2html()"
   ]
  }
 ],
 "metadata": {
  "kernelspec": {
   "display_name": "Python 3",
   "language": "python",
   "name": "python3"
  }
 },
 "nbformat": 4,
 "nbformat_minor": 4
}
